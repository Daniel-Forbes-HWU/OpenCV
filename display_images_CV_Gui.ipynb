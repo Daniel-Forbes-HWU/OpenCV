{
 "cells": [
  {
   "cell_type": "code",
   "execution_count": 1,
   "metadata": {},
   "outputs": [],
   "source": [
    "import cv2 as cv"
   ]
  },
  {
   "cell_type": "markdown",
   "metadata": {},
   "source": [
    "# Display images with a OpenCV's GUI functionality"
   ]
  },
  {
   "cell_type": "code",
   "execution_count": 2,
   "metadata": {},
   "outputs": [],
   "source": [
    "# Open Images\n",
    "tmd_bgr = cv.imread(\"images/TMDs.tif\")\n",
    "tmd_hsv = cv.imread(\"images/TMDs_HSV.tif\")\n",
    "tmd_lab = cv.imread(\"images/TMDs_Lab.tif\")\n",
    "\n",
    "# Display Images\n",
    "cv.imshow(\"BGR\", tmd_bgr)\n",
    "cv.imshow(\"HSV\", tmd_hsv)\n",
    "cv.imshow(\"Lab\", tmd_lab)\n",
    "\n",
    "# Wait here until a key is pressed\n",
    "cv.waitKey(0)  \n",
    "\n",
    "# Clean-up\n",
    "cv.destroyAllWindows()"
   ]
  }
 ],
 "metadata": {
  "kernelspec": {
   "display_name": "Python 3.10.6 64-bit",
   "language": "python",
   "name": "python3"
  },
  "language_info": {
   "codemirror_mode": {
    "name": "ipython",
    "version": 3
   },
   "file_extension": ".py",
   "mimetype": "text/x-python",
   "name": "python",
   "nbconvert_exporter": "python",
   "pygments_lexer": "ipython3",
   "version": "3.10.6"
  },
  "orig_nbformat": 4,
  "vscode": {
   "interpreter": {
    "hash": "1e53626845b4eb8b5c680a0efb6a2c0f164b27219ad0eb6dea9270b36b039f61"
   }
  }
 },
 "nbformat": 4,
 "nbformat_minor": 2
}

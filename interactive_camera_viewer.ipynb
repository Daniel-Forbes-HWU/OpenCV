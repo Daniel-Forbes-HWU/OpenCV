{
 "cells": [
  {
   "cell_type": "code",
   "execution_count": 1,
   "metadata": {},
   "outputs": [],
   "source": [
    "import cv2 as cv"
   ]
  },
  {
   "cell_type": "markdown",
   "metadata": {},
   "source": [
    "# Interactive camera viewer\n",
    "Press `\"b\"` for blur effect\n",
    "\n",
    "Press `\"c\"` for canny edge detection\n",
    "\n",
    "Press `\"t\"` for simple thresholding\n",
    "\n",
    "Press `\"f\"` for feature detection\n",
    "\n",
    "Press `\"a\"` for ArUco marker detection\n",
    "\n",
    "Press `\"p\"` for no processing\n",
    "\n",
    "Press `\"h\"` for hand tracking\n",
    "\n",
    "Press `\"q\"` to quit"
   ]
  },
  {
   "cell_type": "markdown",
   "metadata": {},
   "source": [
    "#### Define image processing function"
   ]
  },
  {
   "cell_type": "code",
   "execution_count": 2,
   "metadata": {},
   "outputs": [],
   "source": [
    "# Define processing function\n",
    "def process_frame(process_function, stream:cv.VideoCapture):\n",
    "    has_frame, frame = stream.read()\n",
    "    if not has_frame:\n",
    "        raise ConnectionError(\"Could not get frame from camera\")\n",
    "    return process_function(frame)"
   ]
  },
  {
   "cell_type": "markdown",
   "metadata": {},
   "source": [
    "#### Define simple thresholding function"
   ]
  },
  {
   "cell_type": "code",
   "execution_count": 3,
   "metadata": {},
   "outputs": [],
   "source": [
    "def threshold(image, threshold=125):\n",
    "    _, thresh = cv.threshold(image, threshold, 255, cv.THRESH_TOZERO)\n",
    "    return thresh"
   ]
  },
  {
   "cell_type": "markdown",
   "metadata": {},
   "source": [
    "#### Define detect features function"
   ]
  },
  {
   "cell_type": "code",
   "execution_count": 4,
   "metadata": {},
   "outputs": [],
   "source": [
    "def detect_features(frame):\n",
    "    # Convert frame to grayscale\n",
    "    frame_gray = cv.cvtColor(frame, cv.COLOR_RGB2GRAY)\n",
    "    \n",
    "    # Detect corners\n",
    "    corners = cv.goodFeaturesToTrack(frame_gray,\n",
    "        maxCorners = 500,\n",
    "        qualityLevel = 0.2,\n",
    "        minDistance = 15,\n",
    "        blockSize = 9 )\n",
    "    \n",
    "    if corners is not None:\n",
    "        for x, y in corners[:, 0]:\n",
    "            cv.circle(frame, (int(x),int(y)), 10, (0,255,0), 1)\n",
    "    \n",
    "    return frame\n",
    "        "
   ]
  },
  {
   "cell_type": "markdown",
   "metadata": {},
   "source": [
    "#### Define ArUco marker function\n",
    "\n",
    "Use with camera pointed at `\"ArUco_Marker_Board_6x6.png\"` on a display/piece of paper/3D print..."
   ]
  },
  {
   "cell_type": "code",
   "execution_count": 5,
   "metadata": {},
   "outputs": [],
   "source": [
    "def detect_markers(frame, aruco_dict=cv.aruco.Dictionary_get(cv.aruco.DICT_6X6_100), aruco_params=cv.aruco.DetectorParameters_create()):\n",
    "    corners, ids, rejected = cv.aruco.detectMarkers(frame, aruco_dict, parameters=aruco_params)\n",
    "    \n",
    "    if len(corners) > 0:\n",
    "        # Do marker processing here\n",
    "        cv.aruco.drawDetectedMarkers(frame, corners, ids)\n",
    "    \n",
    "    return frame"
   ]
  },
  {
   "cell_type": "markdown",
   "metadata": {},
   "source": [
    "#### Define hand tracking function"
   ]
  },
  {
   "cell_type": "code",
   "execution_count": 6,
   "metadata": {},
   "outputs": [],
   "source": [
    "import mediapipe as medp\n",
    "mpHands = medp.solutions.hands\n",
    "hands = mpHands.Hands(static_image_mode=False,\n",
    "                      model_complexity=0,\n",
    "                      max_num_hands=2,\n",
    "                      min_detection_confidence=0.5,\n",
    "                      min_tracking_confidence=0.5)\n",
    "mpDraw = medp.solutions.drawing_utils\n",
    "\n",
    "def find_hands(frame):\n",
    "    results = hands.process(frame)\n",
    "    \n",
    "    if results.multi_hand_landmarks:\n",
    "        for handlms in results.multi_hand_landmarks:\n",
    "            for id, lm in enumerate(handlms.landmark):\n",
    "                #print(id, lm)\n",
    "                h, w, c = frame.shape\n",
    "                cx, cy = int(lm.x*w), int(lm.y*h)\n",
    "                #if id == 5:\n",
    "                cv.circle(frame, (cx, cy), 15, (139, 0, 0), cv.FILLED)\n",
    "\n",
    "\n",
    "            mpDraw.draw_landmarks(frame, handlms, mpHands.HAND_CONNECTIONS)\n",
    "    return frame"
   ]
  },
  {
   "cell_type": "markdown",
   "metadata": {},
   "source": [
    "#### Define Median filtering function"
   ]
  },
  {
   "cell_type": "code",
   "execution_count": 7,
   "metadata": {},
   "outputs": [],
   "source": [
    "def median_filter(frame):\n",
    "    frame = cv.medianBlur(frame, 15)\n",
    "\n",
    "    return frame"
   ]
  },
  {
   "cell_type": "markdown",
   "metadata": {},
   "source": [
    "Connect to camera"
   ]
  },
  {
   "cell_type": "code",
   "execution_count": 8,
   "metadata": {},
   "outputs": [],
   "source": [
    "# Connect to camera\n",
    "camera_id = 1\n",
    "stream = cv.VideoCapture(camera_id)"
   ]
  },
  {
   "cell_type": "markdown",
   "metadata": {},
   "source": [
    "Define and run interactive image window"
   ]
  },
  {
   "cell_type": "code",
   "execution_count": 9,
   "metadata": {},
   "outputs": [],
   "source": [
    "# Create Display window\n",
    "window_name = f\"Camera id={camera_id}\"\n",
    "cv.namedWindow(window_name, cv.WINDOW_NORMAL)\n",
    "\n",
    "# Define process functions\n",
    "process_functions = {\n",
    "    \"unprocessed\" : lambda f : f,\n",
    "    \"blur\" : lambda f : cv.blur(f, (13,13)),\n",
    "    \"canny\" : lambda f : cv.Canny(f, 145, 150),\n",
    "    \"threshold\" : threshold,\n",
    "    \"features\" : detect_features,\n",
    "    \"aruco\" : detect_markers,\n",
    "    \"hands\" : find_hands,\n",
    "    \"median\" : median_filter\n",
    "}\n",
    "\n",
    "# Define keybindings\n",
    "class keys:\n",
    "    q = ord(\"q\")\n",
    "    Q = ord(\"Q\")\n",
    "    p = ord(\"p\")\n",
    "    P = ord(\"P\")\n",
    "    b = ord(\"b\")\n",
    "    B = ord(\"B\")\n",
    "    c = ord(\"c\")\n",
    "    C = ord(\"C\")\n",
    "    t = ord(\"t\")\n",
    "    T = ord(\"T\")\n",
    "    f = ord(\"f\")\n",
    "    F = ord(\"F\")\n",
    "    a = ord(\"a\")\n",
    "    A = ord(\"A\")\n",
    "    h = ord(\"h\")\n",
    "    H = ord(\"H\")\n",
    "    m = ord(\"m\")\n",
    "    M = ord(\"M\")\n",
    "    \n",
    "\n",
    "try:\n",
    "    f = process_functions[\"unprocessed\"]  # Initial processing function\n",
    "    \n",
    "    while True:\n",
    "        # look for keypresses\n",
    "        key = cv.waitKey(1)  # Wait 1ms\n",
    "        \n",
    "        # Process keypresses\n",
    "        match key:\n",
    "            \n",
    "            case -1:  # No buttons pressed\n",
    "                pass\n",
    "            \n",
    "            case keys.q | keys.Q | 27:  # Q or Escape\n",
    "                break\n",
    "                \n",
    "            case keys.p | keys.P:\n",
    "                f = process_functions[\"unprocessed\"]\n",
    "                \n",
    "            case keys.b | keys.B:\n",
    "                f = process_functions[\"blur\"]\n",
    "                \n",
    "            case keys.c | keys.C:\n",
    "                f = process_functions[\"canny\"]\n",
    "            \n",
    "            case keys.t | keys.T:\n",
    "                f = process_functions[\"threshold\"]\n",
    "            \n",
    "            case keys.f | keys.F:\n",
    "                f = process_functions[\"features\"]\n",
    "                \n",
    "            case keys.a | keys.A:\n",
    "                f = process_functions[\"aruco\"]\n",
    "            \n",
    "            case keys.h | keys.H:\n",
    "                f = process_functions[\"hands\"]\n",
    "            \n",
    "            case keys.m | keys.M:\n",
    "                f = process_functions[\"median\"]\n",
    "                \n",
    "            case _:  # Unknown button pressed\n",
    "                pass\n",
    "            \n",
    "        # Read, process, and display frame\n",
    "        cv.imshow(window_name, process_frame(f, stream))\n",
    "\n",
    "    # Close display window        \n",
    "    cv.destroyWindow(window_name)\n",
    "        \n",
    "except Exception:\n",
    "    cv.destroyWindow(window_name)"
   ]
  },
  {
   "cell_type": "markdown",
   "metadata": {},
   "source": [
    "Close camera connection"
   ]
  },
  {
   "cell_type": "code",
   "execution_count": 10,
   "metadata": {},
   "outputs": [],
   "source": [
    "stream.release()"
   ]
  }
 ],
 "metadata": {
  "kernelspec": {
   "display_name": "Python 3.10.6 64-bit",
   "language": "python",
   "name": "python3"
  },
  "language_info": {
   "codemirror_mode": {
    "name": "ipython",
    "version": 3
   },
   "file_extension": ".py",
   "mimetype": "text/x-python",
   "name": "python",
   "nbconvert_exporter": "python",
   "pygments_lexer": "ipython3",
   "version": "3.10.6"
  },
  "orig_nbformat": 4,
  "vscode": {
   "interpreter": {
    "hash": "1e53626845b4eb8b5c680a0efb6a2c0f164b27219ad0eb6dea9270b36b039f61"
   }
  }
 },
 "nbformat": 4,
 "nbformat_minor": 2
}
